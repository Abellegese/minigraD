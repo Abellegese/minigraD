{
 "cells": [
  {
   "cell_type": "code",
   "execution_count": 1,
   "metadata": {},
   "outputs": [],
   "source": [
    "from engine import Value"
   ]
  },
  {
   "cell_type": "code",
   "execution_count": 2,
   "metadata": {},
   "outputs": [],
   "source": [
    "a = Value(3.6)\n",
    "b = Value(4)"
   ]
  },
  {
   "cell_type": "code",
   "execution_count": 5,
   "metadata": {},
   "outputs": [],
   "source": [
    "c = a+a"
   ]
  },
  {
   "cell_type": "code",
   "execution_count": 7,
   "metadata": {},
   "outputs": [
    {
     "data": {
      "text/plain": [
       "1"
      ]
     },
     "execution_count": 7,
     "metadata": {},
     "output_type": "execute_result"
    }
   ],
   "source": [
    "c.backward()\n",
    "c.grad"
   ]
  },
  {
   "cell_type": "code",
   "execution_count": 3,
   "metadata": {},
   "outputs": [
    {
     "data": {
      "text/plain": [
       "(set(), set())"
      ]
     },
     "execution_count": 3,
     "metadata": {},
     "output_type": "execute_result"
    }
   ],
   "source": [
    "a._prev, b._prev"
   ]
  },
  {
   "cell_type": "code",
   "execution_count": 4,
   "metadata": {},
   "outputs": [],
   "source": [
    "c = a+b"
   ]
  },
  {
   "cell_type": "code",
   "execution_count": 5,
   "metadata": {},
   "outputs": [
    {
     "data": {
      "text/plain": [
       "Value(data=7.6, grad=0)"
      ]
     },
     "execution_count": 5,
     "metadata": {},
     "output_type": "execute_result"
    }
   ],
   "source": [
    "c"
   ]
  },
  {
   "cell_type": "code",
   "execution_count": 6,
   "metadata": {},
   "outputs": [],
   "source": [
    "g, h = Value(1.5), Value(2)"
   ]
  },
  {
   "cell_type": "markdown",
   "metadata": {},
   "source": []
  },
  {
   "cell_type": "code",
   "execution_count": 7,
   "metadata": {},
   "outputs": [],
   "source": [
    "v = g*h"
   ]
  },
  {
   "cell_type": "code",
   "execution_count": 8,
   "metadata": {},
   "outputs": [],
   "source": [
    "d = v + c"
   ]
  },
  {
   "cell_type": "code",
   "execution_count": 9,
   "metadata": {},
   "outputs": [],
   "source": [
    "d.backward()"
   ]
  },
  {
   "cell_type": "code",
   "execution_count": 10,
   "metadata": {},
   "outputs": [],
   "source": [
    "from nn import Neuron, Layer, Optim\n",
    "import random"
   ]
  },
  {
   "cell_type": "code",
   "execution_count": 11,
   "metadata": {},
   "outputs": [],
   "source": [
    "nin = 3"
   ]
  },
  {
   "cell_type": "code",
   "execution_count": 12,
   "metadata": {},
   "outputs": [
    {
     "data": {
      "text/plain": [
       "[Value(data=-0.12045288879220539, grad=0),\n",
       " Value(data=0.2824002497188647, grad=0),\n",
       " Value(data=0.9111614024011088, grad=0)]"
      ]
     },
     "execution_count": 12,
     "metadata": {},
     "output_type": "execute_result"
    }
   ],
   "source": [
    "w = [Value(random.uniform(-1,1)) for _ in range(nin)]\n",
    "w"
   ]
  },
  {
   "cell_type": "code",
   "execution_count": 13,
   "metadata": {},
   "outputs": [
    {
     "data": {
      "text/plain": [
       "[0.01, 1.01, 2.01]"
      ]
     },
     "execution_count": 13,
     "metadata": {},
     "output_type": "execute_result"
    }
   ],
   "source": [
    "x  = [i+0.01 for i in range(nin)]\n",
    "x"
   ]
  },
  {
   "cell_type": "code",
   "execution_count": 14,
   "metadata": {},
   "outputs": [],
   "source": [
    "act = sum(wi*xi for wi, xi in zip(w, x))"
   ]
  },
  {
   "cell_type": "code",
   "execution_count": 15,
   "metadata": {},
   "outputs": [],
   "source": [
    "act.backward()"
   ]
  },
  {
   "cell_type": "code",
   "execution_count": 16,
   "metadata": {},
   "outputs": [
    {
     "data": {
      "text/plain": [
       "Value(data=2.1154541421543596, grad=1)"
      ]
     },
     "execution_count": 16,
     "metadata": {},
     "output_type": "execute_result"
    }
   ],
   "source": [
    "act"
   ]
  },
  {
   "cell_type": "code",
   "execution_count": 17,
   "metadata": {},
   "outputs": [
    {
     "data": {
      "text/plain": [
       "[Value(data=-0.7631057257862637, grad=0),\n",
       " Value(data=-0.8266365609983639, grad=0),\n",
       " Value(data=0.47565301768016854, grad=0),\n",
       " Value(data=0, grad=0)]"
      ]
     },
     "execution_count": 17,
     "metadata": {},
     "output_type": "execute_result"
    }
   ],
   "source": [
    "n = Neuron(nin)\n",
    "n.parameters()"
   ]
  },
  {
   "cell_type": "code",
   "execution_count": 18,
   "metadata": {},
   "outputs": [],
   "source": [
    "ya = [2,3,1]\n",
    "model = Layer(3, 3)"
   ]
  },
  {
   "cell_type": "markdown",
   "metadata": {},
   "source": [
    "<h5><b>This shit is even works without building the MLP layers</b></h5>"
   ]
  },
  {
   "cell_type": "code",
   "execution_count": 19,
   "metadata": {},
   "outputs": [],
   "source": [
    "for i in range(100):\n",
    "    y = model(x)\n",
    "    loss = sum((ya-y)**2 for ya, y in zip(ya, y))\n",
    "    loss.backward()\n",
    "    model.step()\n",
    "    model.zero_grad()\n"
   ]
  },
  {
   "cell_type": "code",
   "execution_count": 20,
   "metadata": {},
   "outputs": [],
   "source": [
    "y1 = model(x)"
   ]
  },
  {
   "cell_type": "markdown",
   "metadata": {},
   "source": [
    "<h5>Torch Type Implementation using Optimiser</h5>"
   ]
  },
  {
   "cell_type": "code",
   "execution_count": 21,
   "metadata": {},
   "outputs": [],
   "source": [
    "# optim = Optim(model.parameters())\n",
    "\n",
    "# for i in range(100):\n",
    "#     y = model(x)\n",
    "#     loss = sum((ya-y)**2 for ya, y in zip(ya, y))\n",
    "#     loss.backward()\n",
    "#     optim.step()\n",
    "#     model.zero_grad()\n"
   ]
  },
  {
   "cell_type": "code",
   "execution_count": 22,
   "metadata": {},
   "outputs": [],
   "source": [
    "y2 = model(x)"
   ]
  },
  {
   "cell_type": "code",
   "execution_count": 23,
   "metadata": {},
   "outputs": [
    {
     "data": {
      "text/plain": [
       "([Value(data=0, grad=0), Value(data=3.0, grad=0), Value(data=0, grad=0)],\n",
       " [Value(data=0, grad=0), Value(data=3.0, grad=0), Value(data=0, grad=0)])"
      ]
     },
     "execution_count": 23,
     "metadata": {},
     "output_type": "execute_result"
    }
   ],
   "source": [
    "y1,y2"
   ]
  },
  {
   "cell_type": "markdown",
   "metadata": {},
   "source": [
    "<h5><b>Let's Build MLP with 3 layers</b></h5>"
   ]
  },
  {
   "cell_type": "code",
   "execution_count": 24,
   "metadata": {},
   "outputs": [
    {
     "data": {
      "text/plain": [
       "[Value(data=0.11461453272029809, grad=0),\n",
       " Value(data=-0.9868567579531704, grad=0),\n",
       " Value(data=0.16222004572824456, grad=0),\n",
       " Value(data=-0.8338976632888702, grad=0),\n",
       " Value(data=0.35830552105504543, grad=0),\n",
       " Value(data=0.49669823825493564, grad=0),\n",
       " Value(data=0, grad=0),\n",
       " Value(data=0.050604607696354886, grad=0),\n",
       " Value(data=0.24999177077657309, grad=0),\n",
       " Value(data=0.5066143265057557, grad=0),\n",
       " Value(data=-0.02192763822090793, grad=0),\n",
       " Value(data=-0.12908995580384564, grad=0),\n",
       " Value(data=-0.2656269504789408, grad=0),\n",
       " Value(data=0, grad=0),\n",
       " Value(data=-0.8962561150984198, grad=0),\n",
       " Value(data=0.9623066576157906, grad=0),\n",
       " Value(data=0.20695172466108236, grad=0),\n",
       " Value(data=-0.35729988071524343, grad=0),\n",
       " Value(data=-0.797012216379384, grad=0),\n",
       " Value(data=0.11216703480436063, grad=0),\n",
       " Value(data=0, grad=0)]"
      ]
     },
     "execution_count": 24,
     "metadata": {},
     "output_type": "execute_result"
    }
   ],
   "source": [
    "lin1 = Layer(3,6)\n",
    "lin2 = Layer(6,3)\n",
    "lin2.parameters()"
   ]
  },
  {
   "cell_type": "code",
   "execution_count": 25,
   "metadata": {},
   "outputs": [],
   "source": [
    "#optim = Optim([lin1.parameters(), lin2.parameters()])\n",
    "\n",
    "for i in range(10):\n",
    "    y = lin2(x)\n",
    "    loss = sum((ya-y)**2 for ya, y in zip(ya, y))\n",
    "    loss.backward()\n",
    "    ps = lin2.parameters()\n",
    "    for p in ps:\n",
    "        p.data -= .1*p.grad\n",
    "    lin1.zero_grad()\n",
    "    lin2.zero_grad()\n"
   ]
  },
  {
   "cell_type": "code",
   "execution_count": 26,
   "metadata": {},
   "outputs": [
    {
     "data": {
      "text/plain": [
       "[Value(data=0, grad=-4),\n",
       " Value(data=3.0000014991680644, grad=2.9983361287122534e-06),\n",
       " Value(data=0.9999996713758976, grad=-6.572482047495498e-07)]"
      ]
     },
     "execution_count": 26,
     "metadata": {},
     "output_type": "execute_result"
    }
   ],
   "source": [
    "y"
   ]
  }
 ],
 "metadata": {
  "kernelspec": {
   "display_name": "base",
   "language": "python",
   "name": "python3"
  },
  "language_info": {
   "codemirror_mode": {
    "name": "ipython",
    "version": 3
   },
   "file_extension": ".py",
   "mimetype": "text/x-python",
   "name": "python",
   "nbconvert_exporter": "python",
   "pygments_lexer": "ipython3",
   "version": "3.9.12"
  },
  "orig_nbformat": 4
 },
 "nbformat": 4,
 "nbformat_minor": 2
}
